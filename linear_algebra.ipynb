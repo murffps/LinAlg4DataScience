{
  "nbformat": 4,
  "nbformat_minor": 0,
  "metadata": {
    "colab": {
      "provenance": [],
      "toc_visible": true,
      "authorship_tag": "ABX9TyMjcCarrdgwRjtLFM4nbxk9",
      "include_colab_link": true
    },
    "kernelspec": {
      "name": "python3",
      "display_name": "Python 3"
    },
    "language_info": {
      "name": "python"
    }
  },
  "cells": [
    {
      "cell_type": "markdown",
      "metadata": {
        "id": "view-in-github",
        "colab_type": "text"
      },
      "source": [
        "<a href=\"https://colab.research.google.com/github/murffps/LinAlg4DataScience/blob/main/linear_algebra.ipynb\" target=\"_parent\"><img src=\"https://colab.research.google.com/assets/colab-badge.svg\" alt=\"Open In Colab\"/></a>"
      ]
    },
    {
      "cell_type": "code",
      "source": [
        "Practical Linear Algebra for Data Science"
      ],
      "metadata": {
        "id": "DkDsqda3VUQr"
      },
      "execution_count": null,
      "outputs": []
    },
    {
      "cell_type": "markdown",
      "source": [],
      "metadata": {
        "id": "pSXSdNR1VQsF"
      }
    },
    {
      "cell_type": "code",
      "source": [
        "import numpy as np"
      ],
      "metadata": {
        "id": "Iuca4luCZFXu"
      },
      "execution_count": null,
      "outputs": []
    },
    {
      "cell_type": "code",
      "execution_count": null,
      "metadata": {
        "id": "4OgRUNZ2Ytkw"
      },
      "outputs": [],
      "source": [
        "# 3 ways to create a vector\n",
        "asArray=np([1,2,3]) #1D array\n",
        "rowVec=np([[1,2,3]]) #row\n",
        "colVec=np([1],[2],[3]) #col"
      ]
    },
    {
      "cell_type": "markdown",
      "source": [
        "# Technical Terms\n",
        "https://www.tutorialspoint.com/google_colab/google_colab_documenting_code.htm notation\n",
        "\n",
        "dimentiality - the number of numbers in the vector, dimensions are always listed as (rows, columns)\n",
        "orientation (also asArray = orientationless or orientation-endowed) - vector is in column or row asssume column most the time unless noted\n",
        "constraints\n",
        "shape\n",
        "\n",
        "transpose W^T or transpose transforms a column vec into a row or vice versa\n",
        "geometrically vs algebraically can be used to interpret vectors with different intuition in various applications (ie physics vs engineering vs data science)\n",
        "\n",
        "Operations on Vectors:\n",
        "\n",
        "\n"
      ],
      "metadata": {
        "id": "jJCMbePEe3uE"
      }
    },
    {
      "cell_type": "markdown",
      "source": [
        "# Documenting math terminology and or symbols\n",
        "\n",
        "$x ∈ [-5, 5]$\n",
        "\n",
        "$e^x = \\sum_{i = 0}^\\infty \\frac{1}{i!}x^i$\n",
        "\n",
        "Constraints are\n",
        "   - $3x_1 + 6x_2 + x_3 =< 28$\n",
        "   - $7x_1 + 3x_2 + 2x_3 =< 37$\n",
        "   - $4x_1 + 5x_2 + 2x_3 =< 19$\n",
        "   - $x_1,x_2,x_3 >=0 $\n",
        "\n",
        "The trial vector is calculated as follows:\n",
        "- $u_i(t) = x_i(t) + \\beta(\\hat{x}(t) − x_i(t)) + \\beta \\sum_{k = 1}^{n_v}(x_{i1,k}(t) − x_{i2,k}(t))$\n",
        "$f(x_1, x_2) = 20 + e - 20exp(-0.2 \\sqrt {\\frac {1}{n} (x_1^2 + x_2^2)}) - exp (\\frac {1}{n}(cos(2\\pi x_1) + cos(2\\pi x_2))$\n",
        "\n",
        "$x ∈ [-5, 5]$\n",
        ">$A_{m,n} =\n",
        "   \\begin{pmatrix}\n",
        "   a_{1,1} > a_{1,2} > \\cdots > a_{1,n} \\\\\n",
        "   a_{2,1} > a_{2,2} > \\cdots > a_{2,n} \\\\\n",
        "   \\vdots > \\vdots > \\ddots > \\vdots \\\\\n",
        "   a_{m,1} > a_{m,2} > \\cdots > a_{m,n}\n",
        "   \\end{pmatrix}$"
      ],
      "metadata": {
        "id": "8rJPoMT_Rw7K"
      }
    }
  ]
}